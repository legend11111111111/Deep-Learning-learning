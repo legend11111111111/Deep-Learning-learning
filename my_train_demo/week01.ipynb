{
 "cells": [
  {
   "cell_type": "markdown",
   "id": "bec9b017-d4fe-4a47-94bc-f95e8cea24a0",
   "metadata": {
    "ExecuteTime": {
     "end_time": "2025-04-15T16:06:10.867810Z",
     "start_time": "2025-04-15T16:06:10.856794Z"
    }
   },
   "source": [
    "# 定义一个简单的神经网络(MNIST数据集)\n"
   ]
  },
  {
   "cell_type": "code",
   "execution_count": 1,
   "id": "03fd3efe-2bd8-4302-9f1d-4d385270d0c5",
   "metadata": {
    "ExecuteTime": {
     "end_time": "2025-04-16T12:56:45.132937Z",
     "start_time": "2025-04-16T12:56:45.116721Z"
    }
   },
   "outputs": [],
   "source": [
    "import torch\n",
    "import torch.nn as nn\n",
    "import torch.nn.functional as F"
   ]
  },
  {
   "cell_type": "code",
   "execution_count": 2,
   "id": "de5ed9da-2b4f-45df-bd1b-73f1ed194226",
   "metadata": {
    "ExecuteTime": {
     "end_time": "2025-04-16T12:56:45.268998Z",
     "start_time": "2025-04-16T12:56:45.257173Z"
    }
   },
   "outputs": [],
   "source": [
    "class MyNN(nn.Module):\n",
    "    def __init__(self,input_size,hidden_size,output_size):\n",
    "        super(MyNN,self).__init__()\n",
    "        self.layer1 = nn.Linear(input_size,hidden_size)\n",
    "        self.layer2 = nn.Linear(hidden_size,output_size)\n",
    "        self.dropout = nn.Dropout(0.3)\n",
    "    def forward(self,x):\n",
    "        x = self.layer1(x)\n",
    "        x = F.relu(x)\n",
    "        x = self.dropout(x)\n",
    "        x = self.layer2(x)\n",
    "        return x"
   ]
  },
  {
   "cell_type": "code",
   "execution_count": 3,
   "id": "b70dd05c-208a-4dd6-9b2d-f1b8ec8285cd",
   "metadata": {
    "ExecuteTime": {
     "end_time": "2025-04-16T12:56:45.407429Z",
     "start_time": "2025-04-16T12:56:45.381706Z"
    }
   },
   "outputs": [
    {
     "name": "stdout",
     "output_type": "stream",
     "text": [
      "MyNN(\n",
      "  (layer1): Linear(in_features=784, out_features=128, bias=True)\n",
      "  (layer2): Linear(in_features=128, out_features=10, bias=True)\n",
      "  (dropout): Dropout(p=0.3, inplace=False)\n",
      ")\n"
     ]
    }
   ],
   "source": [
    "input_size = 784\n",
    "hidden_size = 128\n",
    "output_size = 10\n",
    "model = MyNN(input_size,hidden_size,output_size)\n",
    "print(model)"
   ]
  },
  {
   "cell_type": "code",
   "execution_count": 4,
   "id": "3df7b38e-aeaa-4427-9f0b-4b6d34a11c38",
   "metadata": {
    "ExecuteTime": {
     "end_time": "2025-04-16T12:56:45.577159Z",
     "start_time": "2025-04-16T12:56:45.523119Z"
    }
   },
   "outputs": [
    {
     "data": {
      "text/plain": [
       "torch.Size([64, 10])"
      ]
     },
     "execution_count": 4,
     "metadata": {},
     "output_type": "execute_result"
    }
   ],
   "source": [
    "batch_size = 64\n",
    "rand_input = torch.rand(batch_size,input_size)\n",
    "output = model(rand_input)\n",
    "#print(output)\n",
    "output.shape"
   ]
  },
  {
   "cell_type": "code",
   "execution_count": 5,
   "id": "819bddb5-9b91-4e3a-8f77-71b92e8d370f",
   "metadata": {
    "ExecuteTime": {
     "end_time": "2025-04-16T12:56:47.955035Z",
     "start_time": "2025-04-16T12:56:45.723208Z"
    }
   },
   "outputs": [],
   "source": [
    "loss = nn.CrossEntropyLoss()\n",
    "lr = 0.001\n",
    "opt = torch.optim.Adam(model.parameters(),lr)"
   ]
  },
  {
   "cell_type": "code",
   "execution_count": 6,
   "id": "62d4b20a-0e56-4572-8890-f6d06656ef7f",
   "metadata": {
    "ExecuteTime": {
     "end_time": "2025-04-16T12:56:48.361976Z",
     "start_time": "2025-04-16T12:56:47.955035Z"
    }
   },
   "outputs": [],
   "source": [
    "from torchvision import datasets,transforms\n",
    "\n",
    "transform = transforms.Compose([\n",
    "    transforms.ToTensor(),\n",
    "    transforms.Normalize((0.5,),(0.5,))\n",
    "])\n",
    "\n",
    "train_dataset = datasets.MNIST(root = './data', train = True, download = True, transform = transform)\n",
    "test_dataset = datasets.MNIST(root = './data', train = False, transform = transform)\n",
    "\n",
    "train_loader = torch.utils.data.DataLoader(train_dataset,batch_size = 64,shuffle = True)\n",
    "test_loader = torch.utils.data.DataLoader(test_dataset,batch_size = 64,shuffle = True)"
   ]
  },
  {
   "cell_type": "code",
   "execution_count": 7,
   "id": "e29bdd0e-419a-445e-b837-9c2b66580809",
   "metadata": {
    "ExecuteTime": {
     "end_time": "2025-04-16T12:56:48.407986Z",
     "start_time": "2025-04-16T12:56:48.361976Z"
    }
   },
   "outputs": [
    {
     "name": "stdout",
     "output_type": "stream",
     "text": [
      "Images shape :  torch.Size([64, 1, 28, 28])\n",
      "Labels shape :  torch.Size([64])\n"
     ]
    }
   ],
   "source": [
    "images, labels = next(iter(train_loader))\n",
    "print('Images shape : ',images.shape)\n",
    "print('Labels shape : ',labels.shape)"
   ]
  },
  {
   "cell_type": "code",
   "execution_count": 8,
   "id": "fdb80699-8947-4ac9-ac9e-33bd4b6572da",
   "metadata": {
    "ExecuteTime": {
     "end_time": "2025-04-16T12:56:50.644112Z",
     "start_time": "2025-04-16T12:56:50.394434Z"
    }
   },
   "outputs": [
    {
     "name": "stdout",
     "output_type": "stream",
     "text": [
      "True\n",
      "NVIDIA GeForce RTX 3050 Ti Laptop GPU\n"
     ]
    }
   ],
   "source": [
    "print(torch.cuda.is_available())\n",
    "print(torch.cuda.get_device_name())\n",
    "device = torch.device(\"cuda\" if torch.cuda.is_available() else \"cpu\")\n",
    "model = MyNN(input_size = 784, hidden_size = 128, output_size = 10).to(device)"
   ]
  },
  {
   "cell_type": "code",
   "execution_count": 9,
   "id": "be83be00-147b-42c8-9a03-1f418d0f08db",
   "metadata": {
    "ExecuteTime": {
     "end_time": "2025-04-16T12:56:53.596848Z",
     "start_time": "2025-04-16T12:56:53.576886Z"
    }
   },
   "outputs": [],
   "source": [
    "criterion = nn.CrossEntropyLoss()\n",
    "optimizer = torch.optim.Adam(model.parameters(), lr=0.001)"
   ]
  },
  {
   "cell_type": "code",
   "execution_count": 10,
   "id": "bc99b366-8206-43f2-b734-1e7a938cac79",
   "metadata": {
    "ExecuteTime": {
     "end_time": "2025-04-16T12:56:53.743489Z",
     "start_time": "2025-04-16T12:56:53.734210Z"
    }
   },
   "outputs": [],
   "source": [
    "def train(model, dataloader, criterion, optimizer, device):\n",
    "    model.train()\n",
    "    running_loss = 0.0\n",
    "    correct = 0\n",
    "    total = 0\n",
    "\n",
    "    for inputs, targets in dataloader:\n",
    "        inputs = inputs.view(-1,28*28).to(device)\n",
    "        targets = targets.to(device)\n",
    "\n",
    "        outputs = model(inputs)\n",
    "        loss = criterion(outputs, targets)\n",
    "\n",
    "        optimizer.zero_grad()\n",
    "        loss.backward()\n",
    "        optimizer.step()\n",
    "\n",
    "        running_loss += loss.item()\n",
    "        _,predicted = outputs.max(1)\n",
    "        total += outputs.size(0)\n",
    "        correct += predicted.eq(targets).sum().item()\n",
    "\n",
    "    epoch_loss = running_loss / len(dataloader)\n",
    "    epoch_acc = 1.*correct / total\n",
    "    return epoch_loss, epoch_acc"
   ]
  },
  {
   "cell_type": "code",
   "execution_count": 11,
   "id": "851bc888-2c71-4bff-9f83-10490371fb04",
   "metadata": {
    "ExecuteTime": {
     "end_time": "2025-04-16T12:56:53.876857Z",
     "start_time": "2025-04-16T12:56:53.864370Z"
    }
   },
   "outputs": [],
   "source": [
    "def evaluate(model, dataloader, criterion, device):\n",
    "    model.eval()\n",
    "    running_loss = 0.0\n",
    "    correct = 0\n",
    "    total = 0\n",
    "\n",
    "    with torch.no_grad():\n",
    "        for inputs, targets in dataloader:\n",
    "            inputs = inputs.view(-1,28*28).to(device)\n",
    "            targets = targets.to(device)\n",
    "\n",
    "            outputs = model(inputs)\n",
    "            loss = criterion(outputs, targets)\n",
    "\n",
    "            running_loss += loss.item()\n",
    "            _,predicted = outputs.max(1)\n",
    "            total += outputs.size(0)\n",
    "            correct += predicted.eq(targets).sum().item()\n",
    "\n",
    "    epoch_loss = running_loss / len(dataloader)\n",
    "    epoch_acc = 1.*correct / total\n",
    "    return epoch_loss, epoch_acc"
   ]
  },
  {
   "cell_type": "code",
   "execution_count": 12,
   "id": "4aa0e7e8-0695-4545-a157-f1bfd1229e5a",
   "metadata": {
    "ExecuteTime": {
     "end_time": "2025-04-15T16:09:08.952718Z",
     "start_time": "2025-04-15T16:06:48.694807Z"
    }
   },
   "outputs": [
    {
     "name": "stdout",
     "output_type": "stream",
     "text": [
      "Epoch 1/10\n",
      "Train_loss : 0.4477, Train_acc : 0.8663\n",
      "Test_loss : 0.2149, Test_acc : 0.9380\n",
      "\n",
      "Epoch 2/10\n",
      "Train_loss : 0.2511, Train_acc : 0.9250\n",
      "Test_loss : 0.1812, Test_acc : 0.9460\n",
      "\n",
      "Epoch 3/10\n",
      "Train_loss : 0.2079, Train_acc : 0.9376\n",
      "Test_loss : 0.1366, Test_acc : 0.9577\n",
      "\n",
      "Epoch 4/10\n",
      "Train_loss : 0.1824, Train_acc : 0.9456\n",
      "Test_loss : 0.1208, Test_acc : 0.9640\n",
      "\n",
      "Epoch 5/10\n",
      "Train_loss : 0.1678, Train_acc : 0.9484\n",
      "Test_loss : 0.1061, Test_acc : 0.9665\n",
      "\n",
      "Epoch 6/10\n",
      "Train_loss : 0.1589, Train_acc : 0.9513\n",
      "Test_loss : 0.1106, Test_acc : 0.9667\n",
      "\n",
      "Epoch 7/10\n",
      "Train_loss : 0.1494, Train_acc : 0.9542\n",
      "Test_loss : 0.1046, Test_acc : 0.9691\n",
      "\n",
      "Epoch 8/10\n",
      "Train_loss : 0.1457, Train_acc : 0.9546\n",
      "Test_loss : 0.0960, Test_acc : 0.9704\n",
      "\n",
      "Epoch 9/10\n",
      "Train_loss : 0.1383, Train_acc : 0.9570\n",
      "Test_loss : 0.1013, Test_acc : 0.9708\n",
      "\n",
      "Epoch 10/10\n",
      "Train_loss : 0.1340, Train_acc : 0.9595\n",
      "Test_loss : 0.0941, Test_acc : 0.9721\n",
      "\n"
     ]
    }
   ],
   "source": [
    "num_epochs = 10\n",
    "for epoch in range(num_epochs):\n",
    "    train_loss, train_acc = train(model, train_loader, criterion, optimizer, device)\n",
    "    test_loss, test_acc = evaluate(model, test_loader, criterion, device)\n",
    "\n",
    "    print(f\"Epoch {epoch + 1}/{num_epochs}\")\n",
    "    print(f\"Train_loss : {train_loss:.4f}, Train_acc : {train_acc:.4f}\")\n",
    "    print(f\"Test_loss : {test_loss:.4f}, Test_acc : {test_acc:.4f}\\n\")"
   ]
  },
  {
   "cell_type": "code",
   "execution_count": 13,
   "id": "4de04a5e-8382-4064-bc94-927dded072ec",
   "metadata": {
    "ExecuteTime": {
     "end_time": "2025-04-15T16:09:12.694932Z",
     "start_time": "2025-04-15T16:09:12.667865Z"
    }
   },
   "outputs": [],
   "source": [
    "torch.save(model.state_dict(),\"mnist_model_MyNN.pth\")"
   ]
  },
  {
   "cell_type": "code",
   "execution_count": 14,
   "id": "d8cdedf6-fa00-48d9-95d9-e34eb73903d6",
   "metadata": {
    "ExecuteTime": {
     "end_time": "2025-04-15T16:09:26.050322Z",
     "start_time": "2025-04-15T16:09:26.019161Z"
    }
   },
   "outputs": [
    {
     "data": {
      "text/plain": [
       "MyNN(\n",
       "  (layer1): Linear(in_features=784, out_features=128, bias=True)\n",
       "  (layer2): Linear(in_features=128, out_features=10, bias=True)\n",
       "  (dropout): Dropout(p=0.3, inplace=False)\n",
       ")"
      ]
     },
     "execution_count": 14,
     "metadata": {},
     "output_type": "execute_result"
    }
   ],
   "source": [
    "loaded_model = MyNN(input_size = 784, hidden_size = 128, output_size = 10)\n",
    "loaded_model.load_state_dict(torch.load(\"mnist_model_MyNN.pth\"))\n",
    "loaded_model.to(device)"
   ]
  },
  {
   "cell_type": "code",
   "execution_count": 15,
   "id": "e373c6c0-61d5-45bf-87a9-140797bfe569",
   "metadata": {
    "ExecuteTime": {
     "end_time": "2025-04-15T16:09:44.810652Z",
     "start_time": "2025-04-15T16:09:44.806267Z"
    }
   },
   "outputs": [],
   "source": [
    "def predict(model, image, device):\n",
    "    model.eval()\n",
    "    image = image.view(-1,28*28).to(device)\n",
    "    with torch.no_grad():\n",
    "        output = model(image)\n",
    "        _,predicted = output.max(1)\n",
    "    \n",
    "    return predicted.item()"
   ]
  },
  {
   "cell_type": "code",
   "execution_count": 17,
   "id": "6af7bb6c-6274-40d2-973d-61f3424fbad4",
   "metadata": {
    "ExecuteTime": {
     "end_time": "2025-04-15T16:10:49.791110Z",
     "start_time": "2025-04-15T16:10:49.687330Z"
    }
   },
   "outputs": [
    {
     "name": "stdout",
     "output_type": "stream",
     "text": [
      "True Label : 3, Predicted Label : 3\n"
     ]
    },
    {
     "data": {
      "text/plain": [
       "<matplotlib.image.AxesImage at 0x24a42ea0850>"
      ]
     },
     "execution_count": 17,
     "metadata": {},
     "output_type": "execute_result"
    },
    {
     "data": {
      "image/png": "[encoded data removed]",
      "text/plain": [
       "<Figure size 640x480 with 1 Axes>"
      ]
     },
     "metadata": {},
     "output_type": "display_data"
    }
   ],
   "source": [
    "import random\n",
    "from matplotlib import pyplot\n",
    "test_image, test_label = test_dataset[random.randint(0,100)]\n",
    "prediction = predict(loaded_model, test_image, device)\n",
    "print(f\"True Label : {test_label}, Predicted Label : {prediction}\")\n",
    "pyplot.imshow(test_image.reshape((28, 28)), cmap=\"gray\")"
   ]
  },
  {
   "cell_type": "markdown",
   "id": "194e40f3-b7ec-432d-9c64-0780a778fe22",
   "metadata": {},
   "source": [
    "# cifar-10 图像分类(简单神经网络 + VGG + ResNet-18)\n",
    "cifar-10 图像分类与 mnist 数字分类本质上无区别，实现起来代码结构几乎相同。\n",
    "以下代码改造自 csdn ：[基于 PyTorch 的 cifar-10 图像分类](https://blog.csdn.net/weixin_42570192/article/details/124689392?ops_request_misc=%257B%2522request%255Fid%2522%253A%2522533fba3bf4bdecd45554fd47e3a96d4d%2522%252C%2522scm%2522%253A%252220140713.130102334..%2522%257D&request_id=533fba3bf4bdecd45554fd47e3a96d4d&biz_id=0&utm_medium=distribute.pc_search_result.none-task-blog-2~all~top_positive~default-1-124689392-null-null.142^v102^pc_search_result_base5&utm_term=cifar-10%E5%9B%BE%E5%83%8F%E5%88%86%E7%B1%BB&spm=1018.2226.3001.4187)\n",
    "\n",
    "原代码并没有将 model 和 tensor 进行 to(device), 对此进行了一些小修改。使用 ResNet-18 完成 cifar-10 图像分类只需要将 VGG 中的 net 改造为 resnet18 即可"
   ]
  },
  {
   "cell_type": "markdown",
   "id": "902687e4-4b0d-4911-bbc1-075474093142",
   "metadata": {},
   "source": [
    "   ## SimpleNet：\n",
    "   "
   ]
  },
  {
   "cell_type": "code",
   "execution_count": 18,
   "id": "38605dfc-9115-4c26-a044-0cfc44a3012a",
   "metadata": {
    "ExecuteTime": {
     "end_time": "2025-04-16T12:57:18.055129Z",
     "start_time": "2025-04-16T12:57:17.678862Z"
    }
   },
   "outputs": [],
   "source": [
    "import torch\n",
    "import torchvision\n",
    "import torchvision.transforms as transforms\n",
    "import ssl\n",
    "import torch.nn as nn\n",
    "import torch.nn.functional as F\n",
    "import torch.optim as optim\n",
    "import matplotlib.pyplot as plt\n",
    "import numpy as np\n",
    "import time"
   ]
  },
  {
   "cell_type": "code",
   "execution_count": 19,
   "id": "e895a54f-5569-422f-883b-378b34d7638b",
   "metadata": {},
   "outputs": [
    {
     "name": "stdout",
     "output_type": "stream",
     "text": [
      "epoch 1 loss: 2.303\n",
      "        cost 15.273123 sec\n",
      "epoch 2 loss: 2.296\n",
      "        cost 15.121923 sec\n",
      "epoch 3 loss: 2.231\n",
      "        cost 14.979549 sec\n",
      "epoch 4 loss: 2.070\n",
      "        cost 15.048294 sec\n",
      "epoch 5 loss: 1.970\n",
      "        cost 15.015852 sec\n",
      "epoch 6 loss: 1.815\n",
      "        cost 15.027612 sec\n",
      "epoch 7 loss: 1.685\n",
      "        cost 15.006881 sec\n",
      "epoch 8 loss: 1.609\n",
      "        cost 15.180595 sec\n",
      "epoch 9 loss: 1.550\n",
      "        cost 15.120375 sec\n",
      "epoch 10 loss: 1.497\n",
      "        cost 15.154951 sec\n",
      "Finished Training\n"
     ]
    },
    {
     "data": {
      "image/png": "[encoded data removed]",
      "text/plain": [
       "<Figure size 640x480 with 1 Axes>"
      ]
     },
     "metadata": {},
     "output_type": "display_data"
    },
    {
     "name": "stdout",
     "output_type": "stream",
     "text": [
      "GroundTruth:   cat  ship  ship plane\n",
      "Predicted:   cat  ship  ship plane\n",
      "Accuracy of the network on the 10000 test images: 45 %\n",
      "Accuracy of plane : 45 %\n",
      "Accuracy of   car : 50 %\n",
      "Accuracy of  bird : 48 %\n",
      "Accuracy of   cat : 27 %\n",
      "Accuracy of  deer : 18 %\n",
      "Accuracy of   dog : 36 %\n",
      "Accuracy of  frog : 67 %\n",
      "Accuracy of horse : 54 %\n",
      "Accuracy of  ship : 56 %\n",
      "Accuracy of truck : 57 %\n"
     ]
    }
   ],
   "source": [
    "ssl._create_default_https_context = ssl._create_unverified_context\n",
    "\n",
    "transform = transforms.Compose(\n",
    "    [transforms.RandomHorizontalFlip(),\n",
    "     transforms.RandomGrayscale(),\n",
    "     transforms.ToTensor(),\n",
    "     transforms.Normalize((0.5, 0.5, 0.5), (0.5, 0.5, 0.5))]\n",
    ")\n",
    "\n",
    "train_set = torchvision.datasets.CIFAR10(root='./cifar10', train=True, download=True, transform=transform)\n",
    "test_set = torchvision.datasets.CIFAR10(root='./cifar10', train=False, download=True, transform=transform)\n",
    "\n",
    "train_loader = torch.utils.data.DataLoader(train_set, batch_size=100, shuffle=True, num_workers=2)\n",
    "test_loader = torch.utils.data.DataLoader(test_set, batch_size=4, shuffle=False, num_workers=2)\n",
    "\n",
    "\n",
    "classes = ('plane', 'car', 'bird', 'cat', 'deer', 'dog', 'frog', 'horse', 'ship', 'truck')\n",
    "\n",
    "class Net(nn.Module):\n",
    "    def __init__(self):\n",
    "        super(Net, self).__init__()\n",
    "        self.conv1 = nn.Conv2d(3, 6, 5)\n",
    "        self.pool = nn.MaxPool2d(2, 2)\n",
    "        self.conv2 = nn.Conv2d(6, 16, 5)\n",
    "        self.fc1 = nn.Linear(16*5*5, 120)\n",
    "        self.fc2 = nn.Linear(120, 84)\n",
    "        self.fc3 = nn.Linear(84, 10)\n",
    "\n",
    "    def forward(self, x):\n",
    "        x = self.pool(F.relu(self.conv1(x)))\n",
    "        x = self.pool(F.relu(self.conv2(x)))\n",
    "        x = x.view(-1, 16 * 5 * 5)\n",
    "        x = F.relu(self.fc1(x))\n",
    "        x = F.relu(self.fc2(x))\n",
    "        x = self.fc3(x)\n",
    "        return x\n",
    "\n",
    "\n",
    "device = torch.device(\"cuda\" if torch.cuda.is_available() else \"cpu\")\n",
    "\n",
    "net = Net().to(device)\n",
    "\n",
    "criterion = nn.CrossEntropyLoss()\n",
    "optimizer = optim.SGD(net.parameters(), lr=0.001, momentum=0.9)\n",
    "\n",
    "\n",
    "def imshow(img):\n",
    "    img = img / 2 + 0.5\n",
    "    npimg = img.cpu().numpy()\n",
    "    plt.imshow(np.transpose(npimg, (1, 2, 0)))\n",
    "    plt.show()\n",
    "\n",
    "\n",
    "if __name__ == '__main__':\n",
    "    epoch_num = 10\n",
    "    for epoch in range(epoch_num):\n",
    "        time_start = time.time()\n",
    "        running_loss = 0.0\n",
    "        for i, (inputs, labels) in enumerate(train_loader, 0):\n",
    "            inputs, labels = inputs.to(device), labels.to(device)\n",
    "\n",
    "            optimizer.zero_grad()\n",
    "            outputs = net(inputs)\n",
    "            loss = criterion(outputs, labels)\n",
    "            loss.backward()\n",
    "            optimizer.step()\n",
    "\n",
    "            running_loss += loss.item()\n",
    "\n",
    "            if i % 500 == 499:\n",
    "                print('epoch %d loss: %.3f' % (epoch + 1, running_loss / 500))\n",
    "                running_loss = 0.0\n",
    "\n",
    "        print('        cost %3f sec' % (time.time()-time_start))\n",
    "\n",
    "    print('Finished Training')\n",
    "\n",
    "    images, labels = next(iter(test_loader))\n",
    "    images, labels = images.to(device), labels.to(device)\n",
    "\n",
    "    imshow(torchvision.utils.make_grid(images))\n",
    "    print('GroundTruth:', ' '.join('%5s' % classes[labels[j]] for j in range(4)))\n",
    "\n",
    "    outputs = net(images)\n",
    "    _, predicted = torch.max(outputs.data, 1)\n",
    "    print('Predicted:', ' '.join('%5s' % classes[labels[j]] for j in range(4)))\n",
    "\n",
    "    correct = 0\n",
    "    total = 0\n",
    "    for images, labels in test_loader:\n",
    "        images, labels = images.to(device), labels.to(device)\n",
    "        outputs = net(images)\n",
    "        _, predicted = torch.max(outputs.data, 1)\n",
    "        total += labels.size(0)\n",
    "        correct += (predicted == labels).sum()\n",
    "    print('Accuracy of the network on the 10000 test images: %d %%' % (100*correct/total))\n",
    "\n",
    "    class_correct = list(0. for i in range(10))\n",
    "    class_total = list(0. for i in range(10))\n",
    "    for images, labels in test_loader:\n",
    "        images, labels = images.to(device), labels.to(device)\n",
    "        outputs = net(images)\n",
    "        _, predicted = torch.max(outputs.data, 1)\n",
    "        c = (predicted == labels).squeeze()\n",
    "        for i in range(4):\n",
    "            label = labels[i]\n",
    "            class_correct[label] += c[i]\n",
    "            class_total[label] += 1\n",
    "\n",
    "    for i in range(10):\n",
    "        print('Accuracy of %5s : %2d %%' % (classes[i], 100 * class_correct[i] / class_total[i]))\n"
   ]
  },
  {
   "cell_type": "markdown",
   "id": "dea9e098-4739-4421-ab79-6166087d2115",
   "metadata": {},
   "source": [
    "## VGG："
   ]
  },
  {
   "cell_type": "code",
   "execution_count": 20,
   "id": "bda44d1c-f557-4dee-afb9-aacd65adfce2",
   "metadata": {},
   "outputs": [
    {
     "name": "stdout",
     "output_type": "stream",
     "text": [
      "[0,   499] loss: 1.6328\n",
      "Accuracy of the network on the 100 tran images: 56.000 %\n",
      "epoch 0 cost 29.015454 sec\n",
      "[1,   499] loss: 1.1003\n",
      "Accuracy of the network on the 100 tran images: 55.000 %\n",
      "epoch 1 cost 28.651580 sec\n",
      "[2,   499] loss: 0.8610\n",
      "Accuracy of the network on the 100 tran images: 74.000 %\n",
      "epoch 2 cost 28.802603 sec\n",
      "[3,   499] loss: 0.7273\n",
      "Accuracy of the network on the 100 tran images: 80.000 %\n",
      "epoch 3 cost 28.819829 sec\n",
      "[4,   499] loss: 0.6336\n",
      "Accuracy of the network on the 100 tran images: 72.000 %\n",
      "epoch 4 cost 28.860718 sec\n",
      "[5,   499] loss: 0.5644\n",
      "Accuracy of the network on the 100 tran images: 82.000 %\n",
      "epoch 5 cost 29.004982 sec\n",
      "[6,   499] loss: 0.5092\n",
      "Accuracy of the network on the 100 tran images: 87.000 %\n",
      "epoch 6 cost 28.988188 sec\n",
      "[7,   499] loss: 0.4608\n",
      "Accuracy of the network on the 100 tran images: 87.000 %\n",
      "epoch 7 cost 29.037253 sec\n",
      "[8,   499] loss: 0.4206\n",
      "Accuracy of the network on the 100 tran images: 86.000 %\n",
      "epoch 8 cost 29.181368 sec\n",
      "[9,   499] loss: 0.3798\n",
      "Accuracy of the network on the 100 tran images: 92.000 %\n",
      "epoch 9 cost 29.063297 sec\n",
      "Finished Training\n",
      "Accuracy of the network on the 10000 test images: 81.990 %\n",
      "Accuracy of plane : 92 %\n",
      "Accuracy of   car : 89 %\n",
      "Accuracy of  bird : 75 %\n",
      "Accuracy of   cat : 66 %\n",
      "Accuracy of  deer : 80 %\n",
      "Accuracy of   dog : 64 %\n",
      "Accuracy of  frog : 87 %\n",
      "Accuracy of horse : 85 %\n",
      "Accuracy of  ship : 89 %\n",
      "Accuracy of truck : 82 %\n"
     ]
    }
   ],
   "source": [
    "ssl._create_default_https_context = ssl._create_unverified_context\n",
    "\n",
    "transform = transforms.Compose(\n",
    "    [\n",
    "        transforms.RandomHorizontalFlip(),\n",
    "        transforms.RandomGrayscale(),\n",
    "        transforms.ToTensor(),\n",
    "        transforms.Normalize((0.5, 0.5, 0.5), (0.5, 0.5, 0.5))])\n",
    "\n",
    "transform1 = transforms.Compose(\n",
    "    [\n",
    "        transforms.ToTensor(),\n",
    "        transforms.Normalize((0.5, 0.5, 0.5), (0.5, 0.5, 0.5))])\n",
    "\n",
    "train_set = torchvision.datasets.CIFAR10(root='./cifar10', train=True, download=True, transform=transform)\n",
    "train_loader = torch.utils.data.DataLoader(train_set, batch_size=100, shuffle=True, num_workers=2)\n",
    "\n",
    "test_set = torchvision.datasets.CIFAR10(root='./cifar10', train=False, download=True, transform=transform1)\n",
    "test_loader = torch.utils.data.DataLoader(test_set, batch_size=50, shuffle=False, num_workers=2)\n",
    "\n",
    "classes = ('plane', 'car', 'bird', 'cat', 'deer', 'dog', 'frog', 'horse', 'ship', 'truck')\n",
    "\n",
    "\n",
    "class Net(nn.Module):\n",
    "\n",
    "    def __init__(self):\n",
    "        super(Net, self).__init__()\n",
    "        self.conv1 = nn.Conv2d(3, 64, 3, padding=1)\n",
    "        self.conv2 = nn.Conv2d(64, 64, 3, padding=1)\n",
    "        self.pool1 = nn.MaxPool2d(2, 2)\n",
    "        self.bn1 = nn.BatchNorm2d(64)\n",
    "        self.relu1 = nn.ReLU()\n",
    "\n",
    "        self.conv3 = nn.Conv2d(64, 128, 3, padding=1)\n",
    "        self.conv4 = nn.Conv2d(128, 128, 3, padding=1)\n",
    "        self.pool2 = nn.MaxPool2d(2, 2, padding=1)\n",
    "        self.bn2 = nn.BatchNorm2d(128)\n",
    "        self.relu2 = nn.ReLU()\n",
    "\n",
    "        self.conv5 = nn.Conv2d(128, 128, 3, padding=1)\n",
    "        self.conv6 = nn.Conv2d(128, 128, 3, padding=1)\n",
    "        self.conv7 = nn.Conv2d(128, 128, 1, padding=1)\n",
    "        self.pool3 = nn.MaxPool2d(2, 2, padding=1)\n",
    "        self.bn3 = nn.BatchNorm2d(128)\n",
    "        self.relu3 = nn.ReLU()\n",
    "\n",
    "        self.conv8 = nn.Conv2d(128, 256, 3, padding=1)\n",
    "        self.conv9 = nn.Conv2d(256, 256, 3, padding=1)\n",
    "        self.conv10 = nn.Conv2d(256, 256, 1, padding=1)\n",
    "        self.pool4 = nn.MaxPool2d(2, 2, padding=1)\n",
    "        self.bn4 = nn.BatchNorm2d(256)\n",
    "        self.relu4 = nn.ReLU()\n",
    "\n",
    "        self.conv11 = nn.Conv2d(256, 512, 3, padding=1)\n",
    "        self.conv12 = nn.Conv2d(512, 512, 3, padding=1)\n",
    "        self.conv13 = nn.Conv2d(512, 512, 1, padding=1)\n",
    "        self.pool5 = nn.MaxPool2d(2, 2, padding=1)\n",
    "        self.bn5 = nn.BatchNorm2d(512)\n",
    "        self.relu5 = nn.ReLU()\n",
    "\n",
    "        self.fc14 = nn.Linear(512 * 4 * 4, 1024)\n",
    "        self.drop1 = nn.Dropout()\n",
    "        self.fc15 = nn.Linear(1024, 1024)\n",
    "        self.drop2 = nn.Dropout()\n",
    "        self.fc16 = nn.Linear(1024, 10)\n",
    "\n",
    "    def forward(self, x):\n",
    "        x = self.conv1(x)\n",
    "        x = self.conv2(x)\n",
    "        x = self.pool1(x)\n",
    "        x = self.bn1(x)\n",
    "        x = self.relu1(x)\n",
    "\n",
    "        x = self.conv3(x)\n",
    "        x = self.conv4(x)\n",
    "        x = self.pool2(x)\n",
    "        x = self.bn2(x)\n",
    "        x = self.relu2(x)\n",
    "\n",
    "        x = self.conv5(x)\n",
    "        x = self.conv6(x)\n",
    "        x = self.conv7(x)\n",
    "        x = self.pool3(x)\n",
    "        x = self.bn3(x)\n",
    "        x = self.relu3(x)\n",
    "\n",
    "        x = self.conv8(x)\n",
    "        x = self.conv9(x)\n",
    "        x = self.conv10(x)\n",
    "        x = self.pool4(x)\n",
    "        x = self.bn4(x)\n",
    "        x = self.relu4(x)\n",
    "\n",
    "        x = self.conv11(x)\n",
    "        x = self.conv12(x)\n",
    "        x = self.conv13(x)\n",
    "        x = self.pool5(x)\n",
    "        x = self.bn5(x)\n",
    "        x = self.relu5(x)\n",
    "        # print(\" x shape \",x.size())\n",
    "        x = x.view(-1, 512 * 4 * 4)\n",
    "        x = F.relu(self.fc14(x))\n",
    "        x = self.drop1(x)\n",
    "        x = F.relu(self.fc15(x))\n",
    "        x = self.drop2(x)\n",
    "        x = self.fc16(x)\n",
    "\n",
    "        return x\n",
    "\n",
    "    def train_sgd(self, device):\n",
    "\n",
    "        optimizer = optim.SGD(self.parameters(), lr=0.01)\n",
    "        path = 'weights.tar'\n",
    "        init_epoch = 0\n",
    "        loss = nn.CrossEntropyLoss()\n",
    "\n",
    "        # if os.path.exists(path) is not True:\n",
    "        #     loss = nn.CrossEntropyLoss()\n",
    "        # else:\n",
    "        #     checkpoint = torch.load(path)\n",
    "        #     self.load_state_dict(checkpoint['model_state_dict'])\n",
    "        #     optimizer.load_state_dict(checkpoint['optimizer_state_dict'])\n",
    "        #     init_epoch = checkpoint['epoch']\n",
    "        #     loss = checkpoint['loss']\n",
    "\n",
    "        epoch_num = 10\n",
    "        for epoch in range(init_epoch, epoch_num):  # loop over the dataset multiple times\n",
    "            time_start = time.time()\n",
    "\n",
    "            running_loss = 0.0\n",
    "            total = 0\n",
    "            correct = 0\n",
    "            for i, (inputs, labels) in enumerate(train_loader, 0):\n",
    "                # get the inputs\n",
    "                inputs, labels = inputs.to(device), labels.to(device)\n",
    "\n",
    "                optimizer.zero_grad()\n",
    "\n",
    "                outputs = self(inputs)\n",
    "                l = loss(outputs, labels)\n",
    "                l.backward()\n",
    "                optimizer.step()\n",
    "\n",
    "                running_loss += l.item()\n",
    "\n",
    "                if i % 500 == 499:\n",
    "                    print('[%d, %5d] loss: %.4f' %\n",
    "                          (epoch, i, running_loss / 500))\n",
    "                    running_loss = 0.0\n",
    "                    _, predicted = torch.max(outputs.data, 1)\n",
    "                    total += labels.size(0)\n",
    "                    correct += (predicted == labels).sum().item()\n",
    "                    print('Accuracy of the network on the %d tran images: %.3f %%' % (total,\n",
    "                                                                                      100.0 * correct / total))\n",
    "                    total = 0\n",
    "                    correct = 0\n",
    "                    torch.save({'epoch': epoch,\n",
    "                                'model_state_dict': net.state_dict(),\n",
    "                                'optimizer_state_dict': optimizer.state_dict(),\n",
    "                                'loss': loss\n",
    "                                }, path)\n",
    "\n",
    "            print('epoch %d cost %3f sec' % (epoch, time.time() - time_start))\n",
    "\n",
    "        print('Finished Training')\n",
    "\n",
    "    def test(self, device):\n",
    "        correct = 0\n",
    "        total = 0\n",
    "        with torch.no_grad():\n",
    "            for (images, labels) in test_loader:\n",
    "                images, labels = images.to(device), labels.to(device)\n",
    "                outputs = self(images)\n",
    "                _, predicted = torch.max(outputs.data, 1)\n",
    "                total += labels.size(0)\n",
    "                correct += (predicted == labels).sum().item()\n",
    "\n",
    "        print('Accuracy of the network on the 10000 test images: %.3f %%' % (100.0 * correct / total))\n",
    "\n",
    "    def classify(self, device):\n",
    "        class_correct = list(0. for i in range(10))\n",
    "        class_total = list(0. for i in range(10))\n",
    "        for (images, labels) in test_loader:\n",
    "            images, labels = images.to(device), labels.to(device)\n",
    "            outputs = self(images)\n",
    "            _, predicted = torch.max(outputs.data, 1)\n",
    "            c = (predicted == labels).squeeze()\n",
    "            for i in range(4):\n",
    "                label = labels[i]\n",
    "                class_correct[label] += c[i]\n",
    "                class_total[label] += 1\n",
    "\n",
    "        for i in range(10):\n",
    "            print('Accuracy of %5s : %2d %%' % (classes[i], 100 * class_correct[i] / class_total[i]))\n",
    "\n",
    "\n",
    "if __name__ == '__main__':\n",
    "    device = torch.device(\"cuda\" if torch.cuda.is_available() else \"cpu\")\n",
    "    net = Net()\n",
    "    net = net.to(device)\n",
    "    net.train_sgd(device)\n",
    "    net.test(device)\n",
    "    net.classify(device)\n"
   ]
  },
  {
   "cell_type": "markdown",
   "id": "bf091106-03bd-4af9-9a5d-8879927957da",
   "metadata": {},
   "source": [
    "## ResNet-18:"
   ]
  },
  {
   "cell_type": "code",
   "execution_count": 21,
   "id": "b5b7fc6a-f346-4593-88ea-caba8667c406",
   "metadata": {
    "ExecuteTime": {
     "end_time": "2025-04-16T13:07:50.126474Z",
     "start_time": "2025-04-16T12:57:59.483138Z"
    }
   },
   "outputs": [
    {
     "name": "stdout",
     "output_type": "stream",
     "text": [
      "[0,   499] loss: 1.4586\n",
      "Accuracy of the network on the 100 tran images: 49.000 %\n",
      "epoch 0 cost 51.715298 sec\n",
      "[1,   499] loss: 0.9970\n",
      "Accuracy of the network on the 100 tran images: 65.000 %\n",
      "epoch 1 cost 52.014754 sec\n",
      "[2,   499] loss: 0.7836\n",
      "Accuracy of the network on the 100 tran images: 73.000 %\n",
      "epoch 2 cost 52.292113 sec\n",
      "[3,   499] loss: 0.6421\n",
      "Accuracy of the network on the 100 tran images: 80.000 %\n",
      "epoch 3 cost 52.357063 sec\n",
      "[4,   499] loss: 0.5434\n",
      "Accuracy of the network on the 100 tran images: 82.000 %\n",
      "epoch 4 cost 54.970371 sec\n",
      "[5,   499] loss: 0.4513\n",
      "Accuracy of the network on the 100 tran images: 87.000 %\n",
      "epoch 5 cost 52.326971 sec\n",
      "[6,   499] loss: 0.3816\n",
      "Accuracy of the network on the 100 tran images: 86.000 %\n",
      "epoch 6 cost 52.400981 sec\n",
      "[7,   499] loss: 0.3273\n",
      "Accuracy of the network on the 100 tran images: 85.000 %\n",
      "epoch 7 cost 52.411081 sec\n",
      "[8,   499] loss: 0.2706\n",
      "Accuracy of the network on the 100 tran images: 90.000 %\n",
      "epoch 8 cost 52.617032 sec\n",
      "[9,   499] loss: 0.2216\n",
      "Accuracy of the network on the 100 tran images: 87.000 %\n",
      "epoch 9 cost 52.634577 sec\n",
      "Finished Training\n",
      "Accuracy of the network on the 10000 test images: 79.440 %\n",
      "Accuracy of plane : 83 %\n",
      "Accuracy of   car : 97 %\n",
      "Accuracy of  bird : 67 %\n",
      "Accuracy of   cat : 70 %\n",
      "Accuracy of  deer : 75 %\n",
      "Accuracy of   dog : 63 %\n",
      "Accuracy of  frog : 84 %\n",
      "Accuracy of horse : 83 %\n",
      "Accuracy of  ship : 90 %\n",
      "Accuracy of truck : 83 %\n"
     ]
    }
   ],
   "source": [
    "ssl._create_default_https_context = ssl._create_unverified_context\n",
    "\n",
    "transform = transforms.Compose(\n",
    "    [\n",
    "        transforms.RandomHorizontalFlip(),\n",
    "        transforms.RandomGrayscale(),\n",
    "        transforms.ToTensor(),\n",
    "        transforms.Normalize((0.5, 0.5, 0.5), (0.5, 0.5, 0.5))])\n",
    "\n",
    "transform1 = transforms.Compose(\n",
    "    [\n",
    "        transforms.ToTensor(),\n",
    "        transforms.Normalize((0.5, 0.5, 0.5), (0.5, 0.5, 0.5))])\n",
    "\n",
    "train_set = torchvision.datasets.CIFAR10(root='./cifar10', train=True, download=True, transform=transform)\n",
    "train_loader = torch.utils.data.DataLoader(train_set, batch_size=100, shuffle=True, num_workers=2)\n",
    "\n",
    "test_set = torchvision.datasets.CIFAR10(root='./cifar10', train=False, download=True, transform=transform1)\n",
    "test_loader = torch.utils.data.DataLoader(test_set, batch_size=50, shuffle=False, num_workers=2)\n",
    "\n",
    "classes = ('plane', 'car', 'bird', 'cat', 'deer', 'dog', 'frog', 'horse', 'ship', 'truck')\n",
    "\n",
    "\n",
    "class Residual(nn.Module):\n",
    "    def __init__(self, in_channels, out_channels, stride=1, downsample=None):\n",
    "        super(Residual, self).__init__()\n",
    "        self.conv1 = nn.Conv2d(in_channels, out_channels, kernel_size=3, stride=stride, padding=1, bias=False)\n",
    "        self.bn1 = nn.BatchNorm2d(out_channels)\n",
    "        self.relu = nn.ReLU(inplace=True)\n",
    "        self.conv2 = nn.Conv2d(out_channels, out_channels, kernel_size=3, stride=1, padding=1, bias=False)\n",
    "        self.bn2 = nn.BatchNorm2d(out_channels)\n",
    "        self.downsample = downsample\n",
    "\n",
    "    def forward(self, x):\n",
    "        identity = x\n",
    "\n",
    "        out = self.conv1(x)\n",
    "        out = self.bn1(out)\n",
    "        out = self.relu(out)\n",
    "\n",
    "        out = self.conv2(out)\n",
    "        out = self.bn2(out)\n",
    "\n",
    "        if self.downsample is not None:\n",
    "            identity = self.downsample(x)\n",
    "\n",
    "        out += identity\n",
    "        out = self.relu(out)\n",
    "\n",
    "        return out\n",
    "\n",
    "# ResNet-18模型\n",
    "class ResNet18(nn.Module):\n",
    "    def __init__(self, num_classes):\n",
    "        super(ResNet18, self).__init__()\n",
    "        self.in_channels = 64\n",
    "        self.conv = nn.Conv2d(3, 64, kernel_size=3, stride=1, padding=1, bias=False)\n",
    "        self.bn = nn.BatchNorm2d(64)\n",
    "        self.relu = nn.ReLU(inplace=True)\n",
    "        self.layer1 = self.make_layer(Residual, 64, 2)\n",
    "        self.layer2 = self.make_layer(Residual, 128, 2, stride=2)\n",
    "        self.layer3 = self.make_layer(Residual, 256, 2, stride=2)\n",
    "        self.layer4 = self.make_layer(Residual, 512, 2, stride=2)\n",
    "        self.avgpool = nn.AdaptiveAvgPool2d((1, 1))\n",
    "        self.fc = nn.Linear(512, num_classes)\n",
    "\n",
    "    def make_layer(self, block, out_channels, blocks, stride=1):\n",
    "        downsample = None\n",
    "        if stride != 1 or self.in_channels != out_channels:\n",
    "            downsample = nn.Sequential(\n",
    "                nn.Conv2d(self.in_channels, out_channels, kernel_size=1, stride=stride, bias=False),\n",
    "                nn.BatchNorm2d(out_channels),\n",
    "            )\n",
    "        layers = []\n",
    "        layers.append(block(self.in_channels, out_channels, stride, downsample))\n",
    "        self.in_channels = out_channels\n",
    "        for i in range(1, blocks):\n",
    "            layers.append(block(self.in_channels, out_channels))\n",
    "        return nn.Sequential(*layers)\n",
    "\n",
    "    def forward(self, x):\n",
    "        x = self.conv(x)\n",
    "        x = self.bn(x)\n",
    "        x = self.relu(x)\n",
    "        x = self.layer1(x)\n",
    "        x = self.layer2(x)\n",
    "        x = self.layer3(x)\n",
    "        x = self.layer4(x)\n",
    "        x = self.avgpool(x)\n",
    "        x = x.view(x.size(0), -1)\n",
    "        x = self.fc(x)\n",
    "        return x\n",
    "\n",
    "    def train_sgd(self, device):\n",
    "\n",
    "        optimizer = optim.SGD(self.parameters(), lr=0.01)\n",
    "        path = 'weights_resnet.tar'\n",
    "        init_epoch = 0\n",
    "        loss = nn.CrossEntropyLoss()\n",
    "\n",
    "        epoch_num = 10\n",
    "        for epoch in range(init_epoch, epoch_num):  # loop over the dataset multiple times\n",
    "            time_start = time.time()\n",
    "\n",
    "            running_loss = 0.0\n",
    "            total = 0\n",
    "            correct = 0\n",
    "            for i, (inputs, labels) in enumerate(train_loader, 0):\n",
    "                # get the inputs\n",
    "                inputs, labels = inputs.to(device), labels.to(device)\n",
    "\n",
    "                optimizer.zero_grad()\n",
    "\n",
    "                outputs = self(inputs)\n",
    "                l = loss(outputs, labels)\n",
    "                l.backward()\n",
    "                optimizer.step()\n",
    "\n",
    "                running_loss += l.item()\n",
    "\n",
    "                if i % 500 == 499:\n",
    "                    print('[%d, %5d] loss: %.4f' %\n",
    "                          (epoch, i, running_loss / 500))\n",
    "                    running_loss = 0.0\n",
    "                    _, predicted = torch.max(outputs.data, 1)\n",
    "                    total += labels.size(0)\n",
    "                    correct += (predicted == labels).sum().item()\n",
    "                    print('Accuracy of the network on the %d tran images: %.3f %%' % (total,\n",
    "                                                                                      100.0 * correct / total))\n",
    "                    total = 0\n",
    "                    correct = 0\n",
    "                    torch.save({'epoch': epoch,\n",
    "                                'model_state_dict': net.state_dict(),\n",
    "                                'optimizer_state_dict': optimizer.state_dict(),\n",
    "                                'loss': loss\n",
    "                                }, path)\n",
    "\n",
    "            print('epoch %d cost %3f sec' % (epoch, time.time() - time_start))\n",
    "\n",
    "        print('Finished Training')\n",
    "\n",
    "    def test(self, device):\n",
    "        correct = 0\n",
    "        total = 0\n",
    "        with torch.no_grad():\n",
    "            for (images, labels) in test_loader:\n",
    "                images, labels = images.to(device), labels.to(device)\n",
    "                outputs = self(images)\n",
    "                _, predicted = torch.max(outputs.data, 1)\n",
    "                total += labels.size(0)\n",
    "                correct += (predicted == labels).sum().item()\n",
    "\n",
    "        print('Accuracy of the network on the 10000 test images: %.3f %%' % (100.0 * correct / total))\n",
    "\n",
    "    def classify(self, device):\n",
    "        class_correct = list(0. for i in range(10))\n",
    "        class_total = list(0. for i in range(10))\n",
    "        for (images, labels) in test_loader:\n",
    "            images, labels = images.to(device), labels.to(device)\n",
    "            outputs = self(images)\n",
    "            _, predicted = torch.max(outputs.data, 1)\n",
    "            c = (predicted == labels).squeeze()\n",
    "            for i in range(4):\n",
    "                label = labels[i]\n",
    "                class_correct[label] += c[i]\n",
    "                class_total[label] += 1\n",
    "\n",
    "        for i in range(10):\n",
    "            print('Accuracy of %5s : %2d %%' % (classes[i], 100 * class_correct[i] / class_total[i]))\n",
    "\n",
    "\n",
    "if __name__ == '__main__':\n",
    "    device = torch.device(\"cuda\" if torch.cuda.is_available() else \"cpu\")\n",
    "    net = ResNet18(num_classes=10)\n",
    "    net = net.to(device)\n",
    "    net.train_sgd(device)\n",
    "    net.test(device)\n",
    "    net.classify(device)\n"
   ]
  }
 ],
 "metadata": {
  "kernelspec": {
   "display_name": "Python 3 (ipykernel)",
   "language": "python",
   "name": "python3"
  },
  "language_info": {
   "codemirror_mode": {
    "name": "ipython",
    "version": 3
   },
   "file_extension": ".py",
   "mimetype": "text/x-python",
   "name": "python",
   "nbconvert_exporter": "python",
   "pygments_lexer": "ipython3",
   "version": "3.11.3"
  }
 },
 "nbformat": 4,
 "nbformat_minor": 5
}
